{
  "nbformat": 4,
  "nbformat_minor": 0,
  "metadata": {
    "colab": {
      "name": "Data_Modelling.ipynb",
      "provenance": [],
      "collapsed_sections": [],
      "authorship_tag": "ABX9TyMUEDrSO0PL4Ak9D7nCoHip",
      "include_colab_link": true
    },
    "kernelspec": {
      "name": "python3",
      "display_name": "Python 3"
    }
  },
  "cells": [
    {
      "cell_type": "markdown",
      "metadata": {
        "id": "view-in-github",
        "colab_type": "text"
      },
      "source": [
        "<a href=\"https://colab.research.google.com/github/Disha243/Data-Modelling-ML/blob/master/Data_Modelling.ipynb\" target=\"_parent\"><img src=\"https://colab.research.google.com/assets/colab-badge.svg\" alt=\"Open In Colab\"/></a>"
      ]
    },
    {
      "cell_type": "code",
      "metadata": {
        "id": "S4gjQAgZzhN1",
        "colab_type": "code",
        "colab": {
          "base_uri": "https://localhost:8080/",
          "height": 35
        },
        "outputId": "4224c6d5-f94d-468b-dee2-450f11b60717"
      },
      "source": [
        "#Importing dependencies\n",
        "%tensorflow_version 2.x\n",
        "import tensorflow as tf\n",
        "import pandas as pd\n",
        "import numpy as np\n",
        "import math"
      ],
      "execution_count": 1,
      "outputs": [
        {
          "output_type": "stream",
          "text": [
            "TensorFlow 2.x selected.\n"
          ],
          "name": "stdout"
        }
      ]
    },
    {
      "cell_type": "code",
      "metadata": {
        "id": "ELBdCjQd0hh3",
        "colab_type": "code",
        "colab": {}
      },
      "source": [
        "#Limiting pandas to display 15 rows and two digits after decimal point\n",
        "pd.options.display.max_rows = 15\n",
        "pd.options.display.float_format = '{:.2f}'.format"
      ],
      "execution_count": 0,
      "outputs": []
    },
    {
      "cell_type": "markdown",
      "metadata": {
        "id": "mTp2bvPL4PkQ",
        "colab_type": "text"
      },
      "source": [
        "Load the dataset with Pandas. Here we are using the car dataset(csv file) where we use features of the car to predict its price. The column name/header(feature name) is absent. We obtain this from Automobile Data set"
      ]
    },
    {
      "cell_type": "code",
      "metadata": {
        "id": "1D_0daHs2EIt",
        "colab_type": "code",
        "colab": {}
      },
      "source": [
        "#Providing the feature/column names\n",
        "feature_names = ['symboling', 'normalized-losses', 'make', 'fuel-type',\n",
        "        'aspiration', 'num-doors', 'body-style', 'drive-wheels',\n",
        "        'engine-location', 'wheel-base', 'length', 'width', 'height', 'weight',\n",
        "        'engine-type', 'num-cylinders', 'engine-size', 'fuel-system', 'bore',\n",
        "        'stroke', 'compression-ratio', 'horsepower', 'peak-rpm', 'city-mpg',\n",
        "        'highway-mpg', 'price']\n",
        "\n",
        "\n"
      ],
      "execution_count": 0,
      "outputs": []
    }
  ]
}